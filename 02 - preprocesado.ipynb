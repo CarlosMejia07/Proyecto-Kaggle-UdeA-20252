{
  "nbformat": 4,
  "nbformat_minor": 0,
  "metadata": {
    "colab": {
      "provenance": [],
      "authorship_tag": "ABX9TyO/Bfkt6dYyKS9nPV5jR2+a",
      "include_colab_link": true
    },
    "kernelspec": {
      "name": "python3",
      "display_name": "Python 3"
    },
    "language_info": {
      "name": "python"
    }
  },
  "cells": [
    {
      "cell_type": "markdown",
      "metadata": {
        "id": "view-in-github",
        "colab_type": "text"
      },
      "source": [
        "<a href=\"https://colab.research.google.com/github/CarlosMejia07/Proyecto-Kaggle-UdeA-20252/blob/main/02%20-%20preprocesado.ipynb\" target=\"_parent\"><img src=\"https://colab.research.google.com/assets/colab-badge.svg\" alt=\"Open In Colab\"/></a>"
      ]
    },
    {
      "cell_type": "markdown",
      "source": [
        "**Importe, descompresión e inspección de los datos**"
      ],
      "metadata": {
        "id": "08rXPQE1rPR_"
      }
    },
    {
      "cell_type": "code",
      "execution_count": 27,
      "metadata": {
        "colab": {
          "base_uri": "https://localhost:8080/"
        },
        "collapsed": true,
        "id": "3fRYHSQypU_4",
        "outputId": "e1b66471-17aa-40f4-ff85-f32e0a906e26"
      },
      "outputs": [
        {
          "output_type": "stream",
          "name": "stdout",
          "text": [
            "udea-ai-4-eng-20252-pruebas-saber-pro-colombia.zip: Skipping, found more recently modified local copy (use --force to force download)\n",
            "replace submission_example.csv? [y]es, [n]o, [A]ll, [N]one, [r]ename:    296787    296787   4716673 submission_example.csv\n",
            "   296787   4565553  59185238 test.csv\n",
            "   692501  10666231 143732437 train.csv\n",
            "  1286075  15528571 207634348 total\n"
          ]
        }
      ],
      "source": [
        "import os\n",
        "os.environ['KAGGLE_CONFIG_DIR'] = '.'\n",
        "!chmod 600 ./kaggle.json\n",
        "!kaggle competitions download -c udea-ai-4-eng-20252-pruebas-saber-pro-colombia\n",
        "!unzip udea*.zip > /dev/null\n",
        "!wc *.csv"
      ]
    },
    {
      "cell_type": "markdown",
      "source": [
        "**Importe de las librerias a usar y lectura del archivo train**"
      ],
      "metadata": {
        "id": "4sJxVskSrJYE"
      }
    },
    {
      "cell_type": "code",
      "source": [
        "import pandas as pd\n",
        "import numpy as np\n",
        "import matplotlib.pyplot as plt\n",
        "\n",
        "z = pd.read_csv(\"train.csv\")\n",
        "print (\"Estructura de los datos cargados\", z.shape)"
      ],
      "metadata": {
        "colab": {
          "base_uri": "https://localhost:8080/"
        },
        "collapsed": true,
        "id": "bhxg1LrOrIAE",
        "outputId": "1eea57a5-1f0b-4034-9a4f-b6f8e341deef"
      },
      "execution_count": 28,
      "outputs": [
        {
          "output_type": "stream",
          "name": "stdout",
          "text": [
            "Estructura de los datos cargados (692500, 21)\n"
          ]
        }
      ]
    },
    {
      "cell_type": "markdown",
      "source": [
        "**Se dejan de lado las columnas que no aporten a la predicción, preliminarmente**"
      ],
      "metadata": {
        "id": "a_PIwmKivstP"
      }
    },
    {
      "cell_type": "code",
      "source": [
        "z = z.drop(columns=['ID', 'PERIODO_ACADEMICO'])"
      ],
      "metadata": {
        "id": "gPt6bKq1wtu2"
      },
      "execution_count": 29,
      "outputs": []
    },
    {
      "cell_type": "markdown",
      "source": [
        "**Detección y reemplazo de valores nulos**"
      ],
      "metadata": {
        "id": "VOMkrnhRxAvj"
      }
    },
    {
      "cell_type": "code",
      "source": [
        "# Separar valores numéricos y no numéricos\n",
        "numeric_cols = z.select_dtypes(include=np.number).columns\n",
        "non_numeric_cols = z.select_dtypes(exclude=np.number).columns\n",
        "\n",
        "# Reemplazar valores nulos de columnas numéricas con la media\n",
        "z[numeric_cols] = z[numeric_cols].fillna(z[numeric_cols].median())\n",
        "\n",
        "# Reemplazar valores nulos de columnas no numéricas por la moda\n",
        "for col in non_numeric_cols:\n",
        "    z[col] = z[col].fillna(z[col].mode()[0])\n",
        "\n",
        "z.isna().sum()"
      ],
      "metadata": {
        "colab": {
          "base_uri": "https://localhost:8080/",
          "height": 680
        },
        "collapsed": true,
        "id": "WrU9z4LGxMJQ",
        "outputId": "fc961c32-dcd9-4867-aab0-a8dae21443d2"
      },
      "execution_count": 30,
      "outputs": [
        {
          "output_type": "execute_result",
          "data": {
            "text/plain": [
              "E_PRGM_ACADEMICO               0\n",
              "E_PRGM_DEPARTAMENTO            0\n",
              "E_VALORMATRICULAUNIVERSIDAD    0\n",
              "E_HORASSEMANATRABAJA           0\n",
              "F_ESTRATOVIVIENDA              0\n",
              "F_TIENEINTERNET                0\n",
              "F_EDUCACIONPADRE               0\n",
              "F_TIENELAVADORA                0\n",
              "F_TIENEAUTOMOVIL               0\n",
              "E_PRIVADO_LIBERTAD             0\n",
              "E_PAGOMATRICULAPROPIO          0\n",
              "F_TIENECOMPUTADOR              0\n",
              "F_TIENEINTERNET.1              0\n",
              "F_EDUCACIONMADRE               0\n",
              "RENDIMIENTO_GLOBAL             0\n",
              "INDICADOR_1                    0\n",
              "INDICADOR_2                    0\n",
              "INDICADOR_3                    0\n",
              "INDICADOR_4                    0\n",
              "dtype: int64"
            ],
            "text/html": [
              "<div>\n",
              "<style scoped>\n",
              "    .dataframe tbody tr th:only-of-type {\n",
              "        vertical-align: middle;\n",
              "    }\n",
              "\n",
              "    .dataframe tbody tr th {\n",
              "        vertical-align: top;\n",
              "    }\n",
              "\n",
              "    .dataframe thead th {\n",
              "        text-align: right;\n",
              "    }\n",
              "</style>\n",
              "<table border=\"1\" class=\"dataframe\">\n",
              "  <thead>\n",
              "    <tr style=\"text-align: right;\">\n",
              "      <th></th>\n",
              "      <th>0</th>\n",
              "    </tr>\n",
              "  </thead>\n",
              "  <tbody>\n",
              "    <tr>\n",
              "      <th>E_PRGM_ACADEMICO</th>\n",
              "      <td>0</td>\n",
              "    </tr>\n",
              "    <tr>\n",
              "      <th>E_PRGM_DEPARTAMENTO</th>\n",
              "      <td>0</td>\n",
              "    </tr>\n",
              "    <tr>\n",
              "      <th>E_VALORMATRICULAUNIVERSIDAD</th>\n",
              "      <td>0</td>\n",
              "    </tr>\n",
              "    <tr>\n",
              "      <th>E_HORASSEMANATRABAJA</th>\n",
              "      <td>0</td>\n",
              "    </tr>\n",
              "    <tr>\n",
              "      <th>F_ESTRATOVIVIENDA</th>\n",
              "      <td>0</td>\n",
              "    </tr>\n",
              "    <tr>\n",
              "      <th>F_TIENEINTERNET</th>\n",
              "      <td>0</td>\n",
              "    </tr>\n",
              "    <tr>\n",
              "      <th>F_EDUCACIONPADRE</th>\n",
              "      <td>0</td>\n",
              "    </tr>\n",
              "    <tr>\n",
              "      <th>F_TIENELAVADORA</th>\n",
              "      <td>0</td>\n",
              "    </tr>\n",
              "    <tr>\n",
              "      <th>F_TIENEAUTOMOVIL</th>\n",
              "      <td>0</td>\n",
              "    </tr>\n",
              "    <tr>\n",
              "      <th>E_PRIVADO_LIBERTAD</th>\n",
              "      <td>0</td>\n",
              "    </tr>\n",
              "    <tr>\n",
              "      <th>E_PAGOMATRICULAPROPIO</th>\n",
              "      <td>0</td>\n",
              "    </tr>\n",
              "    <tr>\n",
              "      <th>F_TIENECOMPUTADOR</th>\n",
              "      <td>0</td>\n",
              "    </tr>\n",
              "    <tr>\n",
              "      <th>F_TIENEINTERNET.1</th>\n",
              "      <td>0</td>\n",
              "    </tr>\n",
              "    <tr>\n",
              "      <th>F_EDUCACIONMADRE</th>\n",
              "      <td>0</td>\n",
              "    </tr>\n",
              "    <tr>\n",
              "      <th>RENDIMIENTO_GLOBAL</th>\n",
              "      <td>0</td>\n",
              "    </tr>\n",
              "    <tr>\n",
              "      <th>INDICADOR_1</th>\n",
              "      <td>0</td>\n",
              "    </tr>\n",
              "    <tr>\n",
              "      <th>INDICADOR_2</th>\n",
              "      <td>0</td>\n",
              "    </tr>\n",
              "    <tr>\n",
              "      <th>INDICADOR_3</th>\n",
              "      <td>0</td>\n",
              "    </tr>\n",
              "    <tr>\n",
              "      <th>INDICADOR_4</th>\n",
              "      <td>0</td>\n",
              "    </tr>\n",
              "  </tbody>\n",
              "</table>\n",
              "</div><br><label><b>dtype:</b> int64</label>"
            ]
          },
          "metadata": {},
          "execution_count": 30
        }
      ]
    },
    {
      "cell_type": "markdown",
      "source": [
        "**Codificación de las variables con valores nominales y ordinales**"
      ],
      "metadata": {
        "id": "VdO015sFzIz-"
      }
    },
    {
      "cell_type": "code",
      "source": [
        "z.F_ESTRATOVIVIENDA.value_counts()"
      ],
      "metadata": {
        "colab": {
          "base_uri": "https://localhost:8080/",
          "height": 335
        },
        "collapsed": true,
        "id": "0kBg1AuR5iHn",
        "outputId": "dc52b459-1a2e-456f-94f5-d383685c5704"
      },
      "execution_count": 34,
      "outputs": [
        {
          "output_type": "execute_result",
          "data": {
            "text/plain": [
              "F_ESTRATOVIVIENDA\n",
              "Estrato 2      264808\n",
              "Estrato 3      210685\n",
              "Estrato 1      111991\n",
              "Estrato 4       65514\n",
              "Estrato 5       23608\n",
              "Estrato 6       12605\n",
              "Sin Estrato      3289\n",
              "Name: count, dtype: int64"
            ],
            "text/html": [
              "<div>\n",
              "<style scoped>\n",
              "    .dataframe tbody tr th:only-of-type {\n",
              "        vertical-align: middle;\n",
              "    }\n",
              "\n",
              "    .dataframe tbody tr th {\n",
              "        vertical-align: top;\n",
              "    }\n",
              "\n",
              "    .dataframe thead th {\n",
              "        text-align: right;\n",
              "    }\n",
              "</style>\n",
              "<table border=\"1\" class=\"dataframe\">\n",
              "  <thead>\n",
              "    <tr style=\"text-align: right;\">\n",
              "      <th></th>\n",
              "      <th>count</th>\n",
              "    </tr>\n",
              "    <tr>\n",
              "      <th>F_ESTRATOVIVIENDA</th>\n",
              "      <th></th>\n",
              "    </tr>\n",
              "  </thead>\n",
              "  <tbody>\n",
              "    <tr>\n",
              "      <th>Estrato 2</th>\n",
              "      <td>264808</td>\n",
              "    </tr>\n",
              "    <tr>\n",
              "      <th>Estrato 3</th>\n",
              "      <td>210685</td>\n",
              "    </tr>\n",
              "    <tr>\n",
              "      <th>Estrato 1</th>\n",
              "      <td>111991</td>\n",
              "    </tr>\n",
              "    <tr>\n",
              "      <th>Estrato 4</th>\n",
              "      <td>65514</td>\n",
              "    </tr>\n",
              "    <tr>\n",
              "      <th>Estrato 5</th>\n",
              "      <td>23608</td>\n",
              "    </tr>\n",
              "    <tr>\n",
              "      <th>Estrato 6</th>\n",
              "      <td>12605</td>\n",
              "    </tr>\n",
              "    <tr>\n",
              "      <th>Sin Estrato</th>\n",
              "      <td>3289</td>\n",
              "    </tr>\n",
              "  </tbody>\n",
              "</table>\n",
              "</div><br><label><b>dtype:</b> int64</label>"
            ]
          },
          "metadata": {},
          "execution_count": 34
        }
      ]
    },
    {
      "cell_type": "code",
      "source": [
        "# Reemplazar valores si & no por 0 & 1\n",
        "import pandas as pd\n",
        "pd.set_option('future.no_silent_downcasting', True)\n",
        "z.replace({'Si': 1, 'No': 0, 'N': 0}, inplace=True)\n",
        "\n",
        "# Reemplazar valores de variables ordinales\n",
        "z['F_EDUCACIONPADRE'] = z['F_EDUCACIONPADRE'].replace(['No sabe', 'No Aplica'], 'Desconocido')\n",
        "z['F_EDUCACIONMADRE'] = z['F_EDUCACIONMADRE'].replace(['No sabe', 'No Aplica'], 'Desconocido')\n",
        "\n",
        "orden_educacion = [\n",
        "    'Desconocido',\n",
        "    'Ninguno',\n",
        "    'Primaria incompleta',\n",
        "    'Primaria completa',\n",
        "    'Secundaria (Bachillerato) incompleta',\n",
        "    'Secundaria (Bachillerato) completa',\n",
        "    'Técnica o tecnológica incompleta',\n",
        "    'Técnica o tecnológica completa',\n",
        "    'Educación profesional incompleta',\n",
        "    'Educación profesional completa',\n",
        "    'Postgrado'\n",
        "]\n",
        "from sklearn.preprocessing import OrdinalEncoder\n",
        "encoder = OrdinalEncoder(categories=[orden_educacion])\n",
        "z['F_EDUCACIONPADRE'] = encoder.fit_transform(z[['F_EDUCACIONPADRE']])\n",
        "z['F_EDUCACIONMADRE'] = encoder.fit_transform(z[['F_EDUCACIONMADRE']])\n"
      ],
      "metadata": {
        "id": "XG-A7CKYzhMa"
      },
      "execution_count": 31,
      "outputs": []
    },
    {
      "cell_type": "code",
      "source": [
        "orden_matrícula = [\n",
        "    'No pagó matrícula',\n",
        "    'Menos de 500 mil',\n",
        "    'Entre 500 mil y menos de 1 millón',\n",
        "    'Entre 1 millón y menos de 2.5 millones',\n",
        "    'Entre 2.5 millones y menos de 4 millones',\n",
        "    'Entre 4 millones y menos de 5.5 millones',\n",
        "    'Entre 5.5 millones y menos de 7 millones',\n",
        "    'Más de 7 millones'\n",
        "]\n",
        "encoder = OrdinalEncoder(categories=[orden_matrícula])\n",
        "z['E_VALORMATRICULAUNIVERSIDAD'] = encoder.fit_transform(z[['E_VALORMATRICULAUNIVERSIDAD']])"
      ],
      "metadata": {
        "id": "o6zzVaghBpSL"
      },
      "execution_count": 33,
      "outputs": []
    },
    {
      "cell_type": "code",
      "source": [
        "orden_estrato = [\n",
        "    'Sin Estrato',\n",
        "    'Estrato 1',\n",
        "    'Estrato 2',\n",
        "    'Estrato 3',\n",
        "    'Estrato 4',\n",
        "    'Estrato 5',\n",
        "    'Estrato 6'\n",
        "]\n",
        "encoder = OrdinalEncoder(categories=[orden_estrato])\n",
        "z['F_ESTRATOVIVIENDA'] = encoder.fit_transform(z[['F_ESTRATOVIVIENDA']])"
      ],
      "metadata": {
        "id": "a6ajrlQmCVjt"
      },
      "execution_count": 35,
      "outputs": []
    }
  ]
}